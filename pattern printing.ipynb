{
 "cells": [
  {
   "cell_type": "code",
   "execution_count": 2,
   "metadata": {},
   "outputs": [
    {
     "name": "stdout",
     "output_type": "stream",
     "text": [
      "*****\n",
      "*****\n",
      "*****\n",
      "*****\n",
      "*****\n"
     ]
    }
   ],
   "source": [
    "for _ in range(5):\n",
    "    for _ in range(5):\n",
    "        print('*',end='')         #end='' to print it in the same line\n",
    "    print()                       #...every star printed in other line if u dont keep it outside for loop"
   ]
  },
  {
   "cell_type": "code",
   "execution_count": 3,
   "metadata": {},
   "outputs": [
    {
     "name": "stdout",
     "output_type": "stream",
     "text": [
      "\n",
      "*\n",
      "**\n",
      "***\n",
      "****\n"
     ]
    }
   ],
   "source": [
    "for row in range(5):\n",
    "    for column in range(row):\n",
    "        print(\"*\",end='')\n",
    "    print()"
   ]
  },
  {
   "cell_type": "code",
   "execution_count": 4,
   "metadata": {},
   "outputs": [
    {
     "name": "stdout",
     "output_type": "stream",
     "text": [
      "*****\n",
      "****\n",
      "***\n",
      "**\n",
      "*\n"
     ]
    }
   ],
   "source": [
    "for row in range(5):\n",
    "    for column in range(5-row):\n",
    "        print(\"*\",end='')\n",
    "    print()"
   ]
  },
  {
   "cell_type": "code",
   "execution_count": 5,
   "metadata": {},
   "outputs": [
    {
     "name": "stdout",
     "output_type": "stream",
     "text": [
      "    *\n",
      "   **\n",
      "  ***\n",
      " ****\n",
      "*****\n"
     ]
    }
   ],
   "source": [
    "for row in range(1,6):\n",
    "    for space in range(1,6-row):\n",
    "        print(end=\" \")\n",
    "    for column in range(1,row+1):\n",
    "        print('*',end='')\n",
    "    print()"
   ]
  },
  {
   "cell_type": "code",
   "execution_count": 6,
   "metadata": {},
   "outputs": [
    {
     "name": "stdout",
     "output_type": "stream",
     "text": [
      "    *\n",
      "   **\n",
      "  ***\n",
      " ****\n",
      "*****\n"
     ]
    }
   ],
   "source": [
    "for row in range(1,6):\n",
    "    print(((5-row)*' ')+(row * \"*\"))"
   ]
  },
  {
   "cell_type": "code",
   "execution_count": 7,
   "metadata": {},
   "outputs": [
    {
     "name": "stdout",
     "output_type": "stream",
     "text": [
      "    * \n",
      "   * * \n",
      "  * * * \n",
      " * * * * \n",
      "* * * * * \n"
     ]
    }
   ],
   "source": [
    "for i in range(1,6):\n",
    "    print(' '* (5-i) + '* '*i)"
   ]
  },
  {
   "cell_type": "code",
   "execution_count": 8,
   "metadata": {},
   "outputs": [
    {
     "name": "stdout",
     "output_type": "stream",
     "text": [
      "1 \n",
      "2 2 \n",
      "3 3 3 \n",
      "4 4 4 4 \n",
      "5 5 5 5 5 \n"
     ]
    }
   ],
   "source": [
    "for row in range(1,6):\n",
    "    for col in range(1,row+1):\n",
    "        print(row,end=\" \")\n",
    "    print()\n",
    "\n",
    "\n"
   ]
  },
  {
   "cell_type": "code",
   "execution_count": 9,
   "metadata": {},
   "outputs": [
    {
     "name": "stdout",
     "output_type": "stream",
     "text": [
      "1 \n",
      "2 2 \n",
      "3 3 3 \n",
      "4 4 4 4 \n",
      "5 5 5 5 5 \n"
     ]
    }
   ],
   "source": [
    "for row in range(1,6):\n",
    "    for col in range(row):\n",
    "        print(row,end=\" \")\n",
    "    print()\n"
   ]
  },
  {
   "cell_type": "code",
   "execution_count": 10,
   "metadata": {},
   "outputs": [
    {
     "name": "stdout",
     "output_type": "stream",
     "text": [
      "1 \n",
      "2 2 \n",
      "3 3 3 \n",
      "4 4 4 4 \n",
      "5 5 5 5 5 \n"
     ]
    }
   ],
   "source": [
    "for row in range(1,6):\n",
    "    for col in range(1,row+1):\n",
    "        print(row,end=\" \")\n",
    "    print()\n",
    "        "
   ]
  },
  {
   "cell_type": "code",
   "execution_count": 11,
   "metadata": {},
   "outputs": [
    {
     "name": "stdout",
     "output_type": "stream",
     "text": [
      "    *   \n",
      "  *   *   \n",
      "*   *   *   \n",
      "  *   *   \n",
      "    *   \n"
     ]
    }
   ],
   "source": [
    "'''\n",
    "            *\n",
    "          *   *\n",
    "        *   *   *\n",
    "          *   *\n",
    "            *\n",
    "'''\n",
    "for row in range(1,4):\n",
    "    for space in range(5-row-2):\n",
    "        print(' ',end=' ')\n",
    "    for col in range(row):\n",
    "        print('* ',end='  ')\n",
    "    print()\n",
    "    \n",
    "for row in range(2,0,-1):\n",
    "    for space in range(5-row-2):\n",
    "        print(' ',end=' ')\n",
    "    for col in range(row):\n",
    "        print('* ',end='  ')\n",
    "    print()\n",
    "\n",
    "\n",
    "\n",
    "    \n",
    "        "
   ]
  },
  {
   "cell_type": "code",
   "execution_count": 12,
   "metadata": {},
   "outputs": [
    {
     "name": "stdout",
     "output_type": "stream",
     "text": [
      "                  *   \n",
      "                *   *   \n",
      "              *   *   *   \n",
      "                *   *   \n",
      "                  *   \n"
     ]
    }
   ],
   "source": [
    "'''\n",
    "            *\n",
    "          *   *\n",
    "        *   *   *\n",
    "          *   *\n",
    "            *\n",
    "'''\n",
    "for row in range(1,4):\n",
    "    for space in range(row,10):\n",
    "        print(' ',end=' ')\n",
    "    for col in range(row):\n",
    "        print('* ',end='  ')\n",
    "    print()\n",
    "    \n",
    "for row in range(2,0,-1):\n",
    "    for space in range(row,10):\n",
    "        print(' ',end=' ')\n",
    "    for col in range(row):\n",
    "        print('* ',end='  ')\n",
    "    print()\n"
   ]
  },
  {
   "cell_type": "code",
   "execution_count": 13,
   "metadata": {},
   "outputs": [
    {
     "name": "stdout",
     "output_type": "stream",
     "text": [
      "---------------------------------------* \n",
      "--------------------------------------* * \n",
      "-------------------------------------* * * \n",
      "------------------------------------* * * * \n",
      "-----------------------------------* * * * * \n",
      "----------------------------------* * * * * * \n",
      "-----------------------------------* * * * * \n",
      "------------------------------------* * * * \n",
      "-------------------------------------* * * \n",
      "--------------------------------------* * \n",
      "---------------------------------------* \n"
     ]
    }
   ],
   "source": [
    "'''\n",
    "            *\n",
    "          *   *\n",
    "        *   *   *\n",
    "          *   *\n",
    "            *\n",
    "'''\n",
    "for row in range(1,6):\n",
    "    for sp in range(row,40): # 1 to 4 , 2 to 40 ,3 to4 \n",
    "        print(end=\"-\")\n",
    "        \n",
    "    for col in range(1,row+1):\n",
    "        print(\"*\",end=\" \")\n",
    "    print()\n",
    "\n",
    "for row in range(6,0,-1):\n",
    "    for sp in range(row,40): # 1 to 4 , 2 to 40 ,3 to4 \n",
    "        print(end=\"-\")\n",
    "        \n",
    "    for col in range(1,row+1):\n",
    "        print(\"*\",end=\" \")\n",
    "    print()"
   ]
  },
  {
   "cell_type": "code",
   "execution_count": 14,
   "metadata": {},
   "outputs": [
    {
     "name": "stdout",
     "output_type": "stream",
     "text": [
      "1\n",
      "10\n",
      "101\n",
      "1010\n"
     ]
    }
   ],
   "source": [
    "'''\n",
    "1\n",
    "10\n",
    "1010\n",
    "101010\n",
    "'''\n",
    "for row in range(1,5):\n",
    "    for col in range(0,row):\n",
    "        if col%2!=0:\n",
    "            \n",
    "            print('0',end='')\n",
    "        if col%2==0:\n",
    "            print('1',end='')\n",
    "        \n",
    "    print()\n",
    "    "
   ]
  },
  {
   "cell_type": "code",
   "execution_count": 15,
   "metadata": {},
   "outputs": [
    {
     "name": "stdout",
     "output_type": "stream",
     "text": [
      "                                      *   \n",
      "                                    *   *   \n",
      "                                  *   *   *   \n",
      "                                *   *   *   *   \n"
     ]
    }
   ],
   "source": [
    "\n",
    "for row in range(1,5):\n",
    "    for space in range(row,20):\n",
    "        print(\"  \",end=\"\")\n",
    "    for col in range(row):\n",
    "        print(\"*  \",end=\" \")\n",
    "    print()"
   ]
  },
  {
   "cell_type": "code",
   "execution_count": 16,
   "metadata": {},
   "outputs": [
    {
     "name": "stdout",
     "output_type": "stream",
     "text": [
      "      *       \n",
      "    *   *     \n",
      "  *       *   \n",
      "*           * \n",
      "  *       *   \n",
      "    *   *     \n",
      "      *       \n",
      "    *   *     \n",
      "  *   *   *   \n"
     ]
    }
   ],
   "source": [
    "'''\n",
    "\n",
    "            *\n",
    "          *   *\n",
    "        *       *\n",
    "      *           *\n",
    "        *       *\n",
    "          *    *\n",
    "            *\n",
    "          *   *\n",
    "            *\n",
    "'''\n",
    "\n",
    "for row in range(9):\n",
    "    for col in range(7):\n",
    "        if row+col==3 or col-row==3 or row-col==3 or row+col==9 or (row==8 and col==3):\n",
    "        \n",
    "            print(\"* \",end='')\n",
    "        else:\n",
    "            print(end='  ')\n",
    "    print()\n",
    "\n",
    "    "
   ]
  },
  {
   "cell_type": "code",
   "execution_count": 17,
   "metadata": {},
   "outputs": [
    {
     "name": "stdout",
     "output_type": "stream",
     "text": [
      "      *       \n",
      "    *   *     \n",
      "  *       *   \n",
      "*           * \n",
      "  *       *   \n",
      "    *   *     \n",
      "      *       \n",
      "    *   * \n",
      "      *   \n"
     ]
    }
   ],
   "source": [
    "'''\n",
    "\n",
    "            *\n",
    "          *   *\n",
    "        *       *\n",
    "      *           *\n",
    "        *       *\n",
    "          *    *\n",
    "            *\n",
    "          *   *\n",
    "            *\n",
    "'''\n",
    "\n",
    "for row in range(7):\n",
    "    for col in range(7):\n",
    "        if row+col==3 or col-row==3 or row-col==3 or row+col==9:\n",
    "        \n",
    "            print(\"* \",end='')\n",
    "        else:\n",
    "            print(end='  ')\n",
    "    print()\n",
    "\n",
    "for row in range(2):\n",
    "    for space in range(row,2+row):\n",
    "        print(\"  \",end=\"\")\n",
    "    for col in range(3):\n",
    "        if row==col or row+col==2:\n",
    "        \n",
    "            print(\"* \",end='')\n",
    "        else:\n",
    "            print(end='  ')\n",
    "    print()\n",
    "        "
   ]
  },
  {
   "cell_type": "code",
   "execution_count": 18,
   "metadata": {},
   "outputs": [
    {
     "name": "stdout",
     "output_type": "stream",
     "text": [
      "                          *       \n",
      "                        *   *     \n",
      "                      *       *   \n",
      "                    *           * \n",
      "                      *       *   \n",
      "                        *   *     \n",
      "                          *       \n",
      "                        *   * \n",
      "                          *   \n"
     ]
    }
   ],
   "source": [
    "'''\n",
    "\n",
    "            *\n",
    "          *   *\n",
    "        *       *\n",
    "      *           *\n",
    "        *       *\n",
    "          *    *\n",
    "            *\n",
    "          *   *\n",
    "            *\n",
    "'''\n",
    "\n",
    "for row in range(7):\n",
    "    for space in range(row,10+row):\n",
    "        print(\"  \",end=\"\")\n",
    "    for col in range(7):\n",
    "        if row+col==3 or col-row==3 or row-col==3 or row+col==9:\n",
    "        \n",
    "            print(\"* \",end='')\n",
    "        else:\n",
    "            print(end='  ')\n",
    "    print()\n",
    "\n",
    "for row in range(2):\n",
    "    for space in range(row,12+row):\n",
    "        print(\"  \",end=\"\")\n",
    "    for col in range(3):\n",
    "        if row==col or row+col==2:\n",
    "        \n",
    "            print(\"* \",end='')\n",
    "        else:\n",
    "            print(end='  ')\n",
    "    print()\n",
    "        "
   ]
  },
  {
   "cell_type": "code",
   "execution_count": 19,
   "metadata": {},
   "outputs": [
    {
     "name": "stdout",
     "output_type": "stream",
     "text": [
      "*     *\n",
      " *   * \n",
      "  * *  \n",
      "   *   \n",
      "  * *  \n",
      " *   * \n",
      "*     *\n"
     ]
    }
   ],
   "source": [
    "'''\n",
    "\n",
    "   *     *\n",
    "    *   *\n",
    "     * *\n",
    "      *\n",
    "     *  *\n",
    "    *    *\n",
    "   *      *\n",
    "'''\n",
    "\n",
    "for row in range(7):\n",
    "    \n",
    "    for col in range(7):\n",
    "        if row==col or col+row==6:\n",
    "        \n",
    "            print(\"*\",end='')\n",
    "        else:\n",
    "            print(end=' ')\n",
    "    print()\n",
    "\n",
    "\n"
   ]
  },
  {
   "cell_type": "code",
   "execution_count": 5,
   "metadata": {},
   "outputs": [
    {
     "name": "stdout",
     "output_type": "stream",
     "text": [
      "      1 \n",
      "    1 0 1 \n",
      "  1 0 1 0 1 \n",
      "1 0 1 0 1 0 1 \n"
     ]
    }
   ],
   "source": [
    "'''\n",
    "\n",
    "             1       odd\n",
    "           1 0 1     odd\n",
    "         1 0 1 0 1   odd \n",
    "       1 0 1 0 1 0 1 odd\n",
    "\n",
    "\n",
    "'''\n",
    "for row in range(1,5):\n",
    "    for space in range(4-row):\n",
    "        print(' ',end=\" \")\n",
    "    for col in range(1,row*2):\n",
    "        if not col%2:\n",
    "            print('0',end=' ')\n",
    "        else:\n",
    "            print('1',end=' ')\n",
    "                \n",
    "    print()\n",
    "    \n",
    "        "
   ]
  },
  {
   "cell_type": "code",
   "execution_count": 43,
   "metadata": {},
   "outputs": [
    {
     "name": "stdout",
     "output_type": "stream",
     "text": [
      "   1\n",
      "  01\n",
      " 101\n",
      "0101\n"
     ]
    }
   ],
   "source": [
    "for row in range(1,5):\n",
    "    for space in range(4-row):\n",
    "        print(' ',end=\"\")\n",
    "    for col in range(row,0,-1):\n",
    "        if not col%2:\n",
    "            print('0',end='')\n",
    "        else:\n",
    "            print('1',end='')\n",
    "                \n",
    "    print()\n",
    "    \n",
    "    "
   ]
  },
  {
   "cell_type": "code",
   "execution_count": 6,
   "metadata": {},
   "outputs": [
    {
     "data": {
      "text/plain": [
       "'\\n    *        *     \\n      *   *    \\n    *\\t*    *\\n      *   * \\n    *        *\\n    \\n    '"
      ]
     },
     "execution_count": 6,
     "metadata": {},
     "output_type": "execute_result"
    }
   ],
   "source": [
    "'''\n",
    "    *        *     \n",
    "      *   *    \n",
    "    *\t*    *\n",
    "      *   * \n",
    "    *        *\n",
    "    \n",
    "    '''"
   ]
  },
  {
   "cell_type": "code",
   "execution_count": 8,
   "metadata": {},
   "outputs": [
    {
     "name": "stdout",
     "output_type": "stream",
     "text": [
      "11 33\n",
      "---------------.|.---------------\n",
      "------------.|..|..|.------------\n",
      "---------.|..|..|..|..|.---------\n",
      "------.|..|..|..|..|..|..|.------\n",
      "---.|..|..|..|..|..|..|..|..|.---\n",
      "-------------WELCOME-------------\n",
      "---.|..|..|..|..|..|..|..|..|.---\n",
      "------.|..|..|..|..|..|..|.------\n",
      "---------.|..|..|..|..|.---------\n",
      "------------.|..|..|.------------\n",
      "---------------.|.---------------\n"
     ]
    }
   ],
   "source": [
    "'''\n",
    "    Size: 7 x 21 \n",
    "    ---------.|.---------\n",
    "    ------.|..|..|.------\n",
    "    ---.|..|..|..|..|.---\n",
    "    -------WELCOME-------\n",
    "    ---.|..|..|..|..|.---\n",
    "    ------.|..|..|.------\n",
    "    ---------.|.---------'''\n",
    "\n",
    "def doormat(n,m):\n",
    "    for i in range(n//2):\n",
    "        print(('.|.'*(2*i+1)).center(m,'-'))\n",
    "       \n",
    "    print('WELCOME'.center(m,'-'))\n",
    "    \n",
    "    for i in range(n//2,0,-1):\n",
    "        print(('.|.'*(2*i-1)).center(m,'-'))\n",
    "        \n",
    "n,m = map(int,input().split())\n",
    "doormat(n,m)\n"
   ]
  },
  {
   "cell_type": "code",
   "execution_count": null,
   "metadata": {},
   "outputs": [],
   "source": [
    "#Replace all ______ with rjust, ljust or center. \n",
    "\n",
    "thickness = int(input()) #This must be an odd number\n",
    "c = 'H'\n",
    "\n",
    "#Top Cone\n",
    "for i in range(thickness):\n",
    "    print((c*i).rjust(thickness-1)+c+(c*i).ljust(thickness-1))\n",
    "\n",
    "#Top Pillars\n",
    "for i in range(thickness+1):\n",
    "    print((c*thickness).center(thickness*2)+(c*thickness).center(thickness*6))\n",
    "\n",
    "#Middle Belt\n",
    "for i in range((thickness+1)//2):\n",
    "    print((c*thickness*5).center(thickness*6))    \n",
    "\n",
    "#Bottom Pillars\n",
    "for i in range(thickness+1):\n",
    "    print((c*thickness).center(thickness*2)+(c*thickness).center(thickness*6))    \n",
    "\n",
    "#Bottom Cone\n",
    "for i in range(thickness):\n",
    "    print(((c*(thickness-i-1)).rjust(thickness)+c+(c*(thickness-i-1)).ljust(thickness)).rjust(thickness*6))\n",
    "    "
   ]
  },
  {
   "cell_type": "code",
   "execution_count": null,
   "metadata": {},
   "outputs": [],
   "source": []
  }
 ],
 "metadata": {
  "kernelspec": {
   "display_name": "Python 3",
   "language": "python",
   "name": "python3"
  },
  "language_info": {
   "codemirror_mode": {
    "name": "ipython",
    "version": 3
   },
   "file_extension": ".py",
   "mimetype": "text/x-python",
   "name": "python",
   "nbconvert_exporter": "python",
   "pygments_lexer": "ipython3",
   "version": "3.7.6"
  }
 },
 "nbformat": 4,
 "nbformat_minor": 4
}
